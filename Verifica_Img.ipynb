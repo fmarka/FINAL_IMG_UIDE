{
 "cells": [
  {
   "cell_type": "code",
   "execution_count": 1,
   "id": "741b38ba",
   "metadata": {},
   "outputs": [],
   "source": [
    "import tensorflow as tf\n",
    "from tensorflow.keras.preprocessing.image import ImageDataGenerator\n",
    "from tensorflow.keras import datasets, layers, models\n",
    "from tensorflow.keras.preprocessing.image import load_img, img_to_array\n",
    "from sklearn.metrics import confusion_matrix, classification_report\n",
    "import matplotlib.pyplot as plt\n",
    "import numpy as np\n",
    "import pandas as pd"
   ]
  },
  {
   "cell_type": "code",
   "execution_count": 2,
   "id": "46334317",
   "metadata": {},
   "outputs": [],
   "source": [
    "# Define el modelo CNN\n",
    "def cnn_model():\n",
    "    model = tf.keras.models.Sequential()  # Crea un modelo secuencial\n",
    "    model.add(tf.keras.layers.Conv2D(32, (3, 3), activation='relu', input_shape=(32, 32, 3)))  #Capa de convolución 32 filtros\n",
    "    model.add(tf.keras.layers.MaxPooling2D((2, 2)))  #Capa de max pooling 2x2\n",
    "    model.add(tf.keras.layers.Conv2D(64, (3, 3), activation='relu'))  #Capa de convolución 64 filtros\n",
    "    model.add(tf.keras.layers.MaxPooling2D((2, 2)))  #Capa de max pooling 2x2\n",
    "    model.add(tf.keras.layers.Conv2D(64, (3, 3), activation='relu'))  #Capa de convolución 64 filtros\n",
    "    model.add(tf.keras.layers.Flatten())  #Aplana los mapas de características\n",
    "    model.add(tf.keras.layers.Dense(64, activation='relu'))  #Capa densa con 64 unidades\n",
    "    model.add(tf.keras.layers.Dense(8, activation='softmax'))  #Capa de salida con 8 clases\n",
    "    return model"
   ]
  },
  {
   "cell_type": "code",
   "execution_count": 3,
   "id": "29b8af59",
   "metadata": {},
   "outputs": [],
   "source": [
    "# Ruta al directorio que contiene las imágenes de entrenamiento y prueba\n",
    "train_dir = r'D:\\Tdatos\\train'\n",
    "test_dir = r'D:\\Tdatos\\test'\n",
    "# Carga y preprocesa las imágenes usando ImageDataGenerator\n",
    "image_generator = ImageDataGenerator(rescale=1./255)  # Normaliza los valores de los píxeles en el rango 0-1"
   ]
  },
  {
   "cell_type": "code",
   "execution_count": 4,
   "id": "5a477273",
   "metadata": {},
   "outputs": [
    {
     "name": "stdout",
     "output_type": "stream",
     "text": [
      "Found 1633 images belonging to 8 classes.\n"
     ]
    }
   ],
   "source": [
    "# Datos para entrenamiento\n",
    "train_data = image_generator.flow_from_directory(\n",
    "    train_dir,\n",
    "    target_size=(32, 32),  # Redimensiona las imágenes\n",
    "    batch_size=64,  #Tamano batch\n",
    "    class_mode='categorical'\n",
    ")"
   ]
  },
  {
   "cell_type": "code",
   "execution_count": 5,
   "id": "87dfb3e0",
   "metadata": {},
   "outputs": [
    {
     "name": "stdout",
     "output_type": "stream",
     "text": [
      "Found 810 images belonging to 8 classes.\n"
     ]
    }
   ],
   "source": [
    "# Datos para prueba\n",
    "test_data = image_generator.flow_from_directory(\n",
    "    test_dir,\n",
    "    target_size=(32, 32),\n",
    "    batch_size=64,\n",
    "    class_mode='categorical'\n",
    ")"
   ]
  },
  {
   "cell_type": "code",
   "execution_count": 6,
   "id": "56b469ca",
   "metadata": {},
   "outputs": [],
   "source": [
    "# Crea una instancia del modelo CNN\n",
    "model = cnn_model()"
   ]
  },
  {
   "cell_type": "code",
   "execution_count": 7,
   "id": "23093153",
   "metadata": {},
   "outputs": [
    {
     "name": "stdout",
     "output_type": "stream",
     "text": [
      "Epoch 1/30\n",
      "26/26 [==============================] - 24s 910ms/step - loss: 1.4313 - accuracy: 0.5756 - val_loss: 1.3932 - val_accuracy: 0.5667\n",
      "Epoch 2/30\n",
      "26/26 [==============================] - 9s 352ms/step - loss: 1.2244 - accuracy: 0.5915 - val_loss: 1.0989 - val_accuracy: 0.6519\n",
      "Epoch 3/30\n",
      "26/26 [==============================] - 9s 349ms/step - loss: 0.9039 - accuracy: 0.6754 - val_loss: 0.8029 - val_accuracy: 0.7111\n",
      "Epoch 4/30\n",
      "26/26 [==============================] - 9s 355ms/step - loss: 0.7140 - accuracy: 0.7330 - val_loss: 0.6954 - val_accuracy: 0.7383\n",
      "Epoch 5/30\n",
      "26/26 [==============================] - 9s 344ms/step - loss: 0.6130 - accuracy: 0.7575 - val_loss: 0.6740 - val_accuracy: 0.7432\n",
      "Epoch 6/30\n",
      "26/26 [==============================] - 9s 354ms/step - loss: 0.5209 - accuracy: 0.8022 - val_loss: 0.6401 - val_accuracy: 0.8000\n",
      "Epoch 7/30\n",
      "26/26 [==============================] - 9s 348ms/step - loss: 0.5139 - accuracy: 0.8175 - val_loss: 0.7018 - val_accuracy: 0.7765\n",
      "Epoch 8/30\n",
      "26/26 [==============================] - 9s 359ms/step - loss: 0.4983 - accuracy: 0.8120 - val_loss: 0.5617 - val_accuracy: 0.8000\n",
      "Epoch 9/30\n",
      "26/26 [==============================] - 9s 355ms/step - loss: 0.4863 - accuracy: 0.8114 - val_loss: 0.6459 - val_accuracy: 0.7593\n",
      "Epoch 10/30\n",
      "26/26 [==============================] - 9s 357ms/step - loss: 0.4737 - accuracy: 0.8212 - val_loss: 0.5237 - val_accuracy: 0.8210\n",
      "Epoch 11/30\n",
      "26/26 [==============================] - 9s 362ms/step - loss: 0.4430 - accuracy: 0.8261 - val_loss: 0.5880 - val_accuracy: 0.7765\n",
      "Epoch 12/30\n",
      "26/26 [==============================] - 9s 348ms/step - loss: 0.3804 - accuracy: 0.8524 - val_loss: 0.5223 - val_accuracy: 0.8185\n",
      "Epoch 13/30\n",
      "26/26 [==============================] - 9s 356ms/step - loss: 0.3932 - accuracy: 0.8524 - val_loss: 0.8200 - val_accuracy: 0.7531\n",
      "Epoch 14/30\n",
      "26/26 [==============================] - 9s 345ms/step - loss: 0.4050 - accuracy: 0.8494 - val_loss: 0.5088 - val_accuracy: 0.8210\n",
      "Epoch 15/30\n",
      "26/26 [==============================] - 9s 356ms/step - loss: 0.3588 - accuracy: 0.8610 - val_loss: 0.4713 - val_accuracy: 0.8395\n",
      "Epoch 16/30\n",
      "26/26 [==============================] - 9s 348ms/step - loss: 0.3668 - accuracy: 0.8616 - val_loss: 0.4723 - val_accuracy: 0.8370\n",
      "Epoch 17/30\n",
      "26/26 [==============================] - 9s 352ms/step - loss: 0.3373 - accuracy: 0.8726 - val_loss: 0.4735 - val_accuracy: 0.8444\n",
      "Epoch 18/30\n",
      "26/26 [==============================] - 9s 355ms/step - loss: 0.2882 - accuracy: 0.8928 - val_loss: 0.5073 - val_accuracy: 0.8309\n",
      "Epoch 19/30\n",
      "26/26 [==============================] - 9s 346ms/step - loss: 0.2768 - accuracy: 0.8947 - val_loss: 0.4803 - val_accuracy: 0.8494\n",
      "Epoch 20/30\n",
      "26/26 [==============================] - 9s 356ms/step - loss: 0.2490 - accuracy: 0.9063 - val_loss: 0.4470 - val_accuracy: 0.8593\n",
      "Epoch 21/30\n",
      "26/26 [==============================] - 9s 349ms/step - loss: 0.2956 - accuracy: 0.9075 - val_loss: 0.4608 - val_accuracy: 0.8531\n",
      "Epoch 22/30\n",
      "26/26 [==============================] - 9s 365ms/step - loss: 0.2722 - accuracy: 0.8990 - val_loss: 0.4558 - val_accuracy: 0.8617\n",
      "Epoch 23/30\n",
      "26/26 [==============================] - 9s 359ms/step - loss: 0.2487 - accuracy: 0.9137 - val_loss: 0.4762 - val_accuracy: 0.8481\n",
      "Epoch 24/30\n",
      "26/26 [==============================] - 9s 364ms/step - loss: 0.2958 - accuracy: 0.8928 - val_loss: 0.5612 - val_accuracy: 0.8235\n",
      "Epoch 25/30\n",
      "26/26 [==============================] - 9s 362ms/step - loss: 0.2749 - accuracy: 0.9026 - val_loss: 0.5048 - val_accuracy: 0.8321\n",
      "Epoch 26/30\n",
      "26/26 [==============================] - 9s 347ms/step - loss: 0.2874 - accuracy: 0.8928 - val_loss: 0.6093 - val_accuracy: 0.7988\n",
      "Epoch 27/30\n",
      "26/26 [==============================] - 9s 365ms/step - loss: 0.2821 - accuracy: 0.8904 - val_loss: 0.5045 - val_accuracy: 0.8506\n",
      "Epoch 28/30\n",
      "26/26 [==============================] - 9s 345ms/step - loss: 0.2428 - accuracy: 0.9118 - val_loss: 0.4899 - val_accuracy: 0.8395\n",
      "Epoch 29/30\n",
      "26/26 [==============================] - 9s 356ms/step - loss: 0.2161 - accuracy: 0.9167 - val_loss: 0.5449 - val_accuracy: 0.8346\n",
      "Epoch 30/30\n",
      "26/26 [==============================] - 9s 354ms/step - loss: 0.2014 - accuracy: 0.9290 - val_loss: 0.5053 - val_accuracy: 0.8519\n"
     ]
    },
    {
     "data": {
      "text/plain": [
       "<keras.callbacks.History at 0x229af3570d0>"
      ]
     },
     "execution_count": 7,
     "metadata": {},
     "output_type": "execute_result"
    }
   ],
   "source": [
    "# Compila el modelo\n",
    "model.compile(optimizer='adam',\n",
    "              loss='categorical_crossentropy',\n",
    "              metrics=['accuracy'])\n",
    "\n",
    "# Entrena el modelo\n",
    "model.fit(train_data, epochs=30, validation_data=test_data)"
   ]
  },
  {
   "cell_type": "code",
   "execution_count": 8,
   "id": "65550ea5",
   "metadata": {},
   "outputs": [
    {
     "name": "stdout",
     "output_type": "stream",
     "text": [
      "13/13 [==============================] - 3s 227ms/step - loss: 0.5053 - accuracy: 0.8519\n",
      "Test accuracy: 0.8518518805503845\n"
     ]
    }
   ],
   "source": [
    "# Evalúa el modelo\n",
    "test_loss, test_acc = model.evaluate(test_data)\n",
    "print('Test accuracy:', test_acc)"
   ]
  },
  {
   "cell_type": "code",
   "execution_count": 9,
   "id": "e027a3f4",
   "metadata": {},
   "outputs": [
    {
     "name": "stdout",
     "output_type": "stream",
     "text": [
      "13/13 [==============================] - 3s 227ms/step\n"
     ]
    }
   ],
   "source": [
    "# Realiza predicciones en el conjunto de prueba\n",
    "predictions = model.predict(test_data)\n",
    "y_pred = np.argmax(predictions, axis=1)\n",
    "true_labels = test_data.classes\n",
    "\n",
    "# Calcula la matriz de confusión\n",
    "confusion_mtx = confusion_matrix(true_labels, y_pred)"
   ]
  },
  {
   "cell_type": "code",
   "execution_count": 10,
   "id": "f42639d5",
   "metadata": {},
   "outputs": [
    {
     "data": {
      "image/png": "[encoded data removed]",
      "text/plain": [
       "<Figure size 640x480 with 2 Axes>"
      ]
     },
     "metadata": {},
     "output_type": "display_data"
    }
   ],
   "source": [
    "# Grafica la matriz de confusión\n",
    "plt.imshow(confusion_mtx, interpolation='nearest', cmap=plt.cm.Blues)\n",
    "plt.title('Confusion Matrix')\n",
    "plt.colorbar()\n",
    "tick_marks = np.arange(len(test_data.class_indices))\n",
    "plt.xticks(tick_marks, test_data.class_indices, rotation=45)\n",
    "plt.yticks(tick_marks, test_data.class_indices)\n",
    "plt.xlabel('Predicted Label')\n",
    "plt.ylabel('True Label')\n",
    "plt.show()"
   ]
  },
  {
   "cell_type": "code",
   "execution_count": 11,
   "id": "2a81ee52",
   "metadata": {},
   "outputs": [
    {
     "name": "stdout",
     "output_type": "stream",
     "text": [
      "Confusion Matrix:\n",
      "          CLASS_01  CLASS_02  CLASS_03  CLASS_04  CLASS_05  CLASS_06  \\\n",
      "CLASS_01         0         0         1         0         0         0   \n",
      "CLASS_02         0         3        11         0        27         3   \n",
      "CLASS_03         0         4        13         6        60         1   \n",
      "CLASS_04         0         1         9         2        25         1   \n",
      "CLASS_05         0        19        73        32       257         6   \n",
      "CLASS_06         0         1         4         0         7         1   \n",
      "CLASS_07         0         7        16         7        61         1   \n",
      "CLASS_08         0         0         2         0        13         2   \n",
      "\n",
      "          CLASS_07  CLASS_08  \n",
      "CLASS_01         0         0  \n",
      "CLASS_02         2         2  \n",
      "CLASS_03         6         7  \n",
      "CLASS_04         5         2  \n",
      "CLASS_05        54        18  \n",
      "CLASS_06         3         3  \n",
      "CLASS_07        15         7  \n",
      "CLASS_08         7         3  \n"
     ]
    }
   ],
   "source": [
    "# Convierte la matriz de confusión en un DataFrame de pandas\n",
    "confusion_df = pd.DataFrame(confusion_mtx, index=test_data.class_indices.keys(), columns=test_data.class_indices.keys())\n",
    "# Muestra la matriz de confusión como una tabla\n",
    "print(\"Confusion Matrix:\")\n",
    "print(confusion_df)"
   ]
  },
  {
   "cell_type": "code",
   "execution_count": 20,
   "id": "61e72778",
   "metadata": {},
   "outputs": [
    {
     "name": "stdout",
     "output_type": "stream",
     "text": [
      "26/26 [==============================] - 6s 228ms/step\n"
     ]
    }
   ],
   "source": [
    "# Obtén las predicciones para los datos de entrenamiento\n",
    "train_predictions = model.predict(train_data)\n",
    "train_pred_labels = np.argmax(train_predictions, axis=1)"
   ]
  },
  {
   "cell_type": "code",
   "execution_count": 21,
   "id": "48ce55b9",
   "metadata": {},
   "outputs": [],
   "source": [
    "# Obtén las etiquetas verdaderas de los datos de entrenamiento\n",
    "train_true_labels = train_data.classes"
   ]
  },
  {
   "cell_type": "code",
   "execution_count": 22,
   "id": "6ca8f1fc",
   "metadata": {},
   "outputs": [],
   "source": [
    "# Calcula la matriz de confusión\n",
    "train_confusion_mtx = confusion_matrix(train_true_labels, train_pred_labels)"
   ]
  },
  {
   "cell_type": "code",
   "execution_count": 23,
   "id": "db6c0334",
   "metadata": {},
   "outputs": [],
   "source": [
    "# Agrega una fila y columna de ceros al principio\n",
    "train_confusion_mtx = np.insert(train_confusion_mtx, 0, 0, axis=0)\n",
    "train_confusion_mtx = np.insert(train_confusion_mtx, 0, 0, axis=1)"
   ]
  },
  {
   "cell_type": "code",
   "execution_count": 24,
   "id": "4e792047",
   "metadata": {},
   "outputs": [
    {
     "data": {
      "image/png": "[encoded data removed]",
      "text/plain": [
       "<Figure size 640x480 with 2 Axes>"
      ]
     },
     "metadata": {},
     "output_type": "display_data"
    }
   ],
   "source": [
    "# Grafica la matriz de confusión\n",
    "plt.imshow(train_confusion_mtx, interpolation='nearest', cmap=plt.cm.Blues)\n",
    "plt.title('Confusion Matrix')\n",
    "plt.colorbar()\n",
    "tick_marks = np.arange(len(train_data.class_indices))\n",
    "plt.xticks(tick_marks, train_data.class_indices, rotation=45)\n",
    "plt.yticks(tick_marks, train_data.class_indices)\n",
    "plt.xlabel('Predicted Label')\n",
    "plt.ylabel('True Label')\n",
    "plt.show()"
   ]
  },
  {
   "cell_type": "code",
   "execution_count": 25,
   "id": "2bc888ca",
   "metadata": {},
   "outputs": [],
   "source": [
    "# Convierte la matriz de confusión en un DataFrame de pandas\n",
    "train_confusion_df = pd.DataFrame(train_confusion_mtx, index=train_data.class_indices.keys(), columns=train_data.class_indices.keys())"
   ]
  },
  {
   "cell_type": "code",
   "execution_count": 26,
   "id": "dc0d7978",
   "metadata": {},
   "outputs": [
    {
     "name": "stdout",
     "output_type": "stream",
     "text": [
      "Matriz de Confusión (Datos de Entrenamiento):\n",
      "          CLASS_01  CLASS_02  CLASS_03  CLASS_04  CLASS_05  CLASS_06  \\\n",
      "CLASS_01         0         0         0         0         0         0   \n",
      "CLASS_02         0         0        14         4        40         0   \n",
      "CLASS_03         0        11        26         8       132         5   \n",
      "CLASS_04         0         4        14         7        54         4   \n",
      "CLASS_05         0        32       151        65       525        22   \n",
      "CLASS_06         0         0         4         5        19         2   \n",
      "CLASS_07         0         8        29         6       116         3   \n",
      "CLASS_08         0         1        14         4        32         0   \n",
      "\n",
      "          CLASS_07  CLASS_08  \n",
      "CLASS_01         0         0  \n",
      "CLASS_02         3         1  \n",
      "CLASS_03        21        10  \n",
      "CLASS_04        18         4  \n",
      "CLASS_05       108        46  \n",
      "CLASS_06         5         2  \n",
      "CLASS_07        33         9  \n",
      "CLASS_08         8         4  \n"
     ]
    }
   ],
   "source": [
    "# Muestra la matriz de confusión como una tabla\n",
    "print(\"Matriz de Confusión (Datos de Entrenamiento):\")\n",
    "print(train_confusion_df)"
   ]
  },
  {
   "cell_type": "code",
   "execution_count": 34,
   "id": "981c177e",
   "metadata": {},
   "outputs": [],
   "source": [
    "# Ruta de la imagen que deseas verificar\n",
    "imagen_ruta = r'd:\\Tdatos\\carne5.png'\n",
    "imagen_ruta = imagen_ruta.replace(\"\\\\\", \"/\")  # Reemplaza las barras diagonales inversas por barras diagonales normales"
   ]
  },
  {
   "cell_type": "code",
   "execution_count": 35,
   "id": "47c26c01",
   "metadata": {},
   "outputs": [],
   "source": [
    "# Carga y preprocesa la imagen\n",
    "imagen = load_img(imagen_ruta, target_size=(32, 32))\n",
    "imagen_array = img_to_array(imagen)\n",
    "imagen_array = np.expand_dims(imagen_array, axis=0)\n",
    "imagen_array = imagen_array / 255.0"
   ]
  },
  {
   "cell_type": "code",
   "execution_count": 36,
   "id": "0b04e5fe",
   "metadata": {},
   "outputs": [
    {
     "name": "stdout",
     "output_type": "stream",
     "text": [
      "1/1 [==============================] - 0s 22ms/step\n"
     ]
    }
   ],
   "source": [
    "# Realiza la predicción\n",
    "predicciones = model.predict(imagen_array)\n",
    "clase_predicha = np.argmax(predicciones[0])"
   ]
  },
  {
   "cell_type": "code",
   "execution_count": 37,
   "id": "0adad582",
   "metadata": {},
   "outputs": [],
   "source": [
    "# Obtiene las etiquetas de clase\n",
    "etiquetas_clase = list(train_data.class_indices.keys())"
   ]
  },
  {
   "cell_type": "code",
   "execution_count": 38,
   "id": "394ac16d",
   "metadata": {},
   "outputs": [
    {
     "name": "stdout",
     "output_type": "stream",
     "text": [
      "Clase predicha: CLASS_05\n"
     ]
    }
   ],
   "source": [
    "# Imprime la clase predicha\n",
    "clase_predicha_etiqueta = etiquetas_clase[clase_predicha]\n",
    "print('Clase predicha:', clase_predicha_etiqueta)"
   ]
  },
  {
   "cell_type": "code",
   "execution_count": 39,
   "id": "31152103",
   "metadata": {},
   "outputs": [
    {
     "name": "stdout",
     "output_type": "stream",
     "text": [
      "Clase real:  Tdatos\n"
     ]
    }
   ],
   "source": [
    "# Muestra la clase real y la clase predicha\n",
    "print(\"Clase real: \", imagen_ruta.split(\"/\")[-2])"
   ]
  },
  {
   "cell_type": "code",
   "execution_count": 40,
   "id": "853589f2",
   "metadata": {},
   "outputs": [
    {
     "data": {
      "image/png": "[encoded data removed]",
      "text/plain": [
       "<Figure size 640x480 with 1 Axes>"
      ]
     },
     "metadata": {},
     "output_type": "display_data"
    }
   ],
   "source": [
    "# Muestra la imagen\n",
    "plt.imshow(imagen)\n",
    "plt.title('Clase real: ' + imagen_ruta.split(\"/\")[-2] + ', Clase predicha: ' + etiquetas_clase[clase_predicha])\n",
    "plt.axis('off')\n",
    "plt.show()"
   ]
  },
  {
   "cell_type": "code",
   "execution_count": null,
   "id": "731a96bc",
   "metadata": {},
   "outputs": [],
   "source": []
  }
 ],
 "metadata": {
  "kernelspec": {
   "display_name": "Python 3 (ipykernel)",
   "language": "python",
   "name": "python3"
  },
  "language_info": {
   "codemirror_mode": {
    "name": "ipython",
    "version": 3
   },
   "file_extension": ".py",
   "mimetype": "text/x-python",
   "name": "python",
   "nbconvert_exporter": "python",
   "pygments_lexer": "ipython3",
   "version": "3.10.9"
  }
 },
 "nbformat": 4,
 "nbformat_minor": 5
}
